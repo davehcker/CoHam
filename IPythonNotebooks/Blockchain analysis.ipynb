{
 "cells": [
  {
   "cell_type": "markdown",
   "metadata": {},
   "source": [
    "## Original Data- this data can be obtained from the Blockchain after appropriate parsing.\n",
    "\n",
    "\n",
    "blockhash.txt -- enumeration of all blocks in the blockchain, 277443 rows, 4 columns: \n",
    "\n",
    "\n",
    " \tblockID -- id used in this database (0 -- 277442, continous) \n",
    " \tbhash -- block hash (identifier in the blockchain, 64 hex characters) \n",
    " \tbtime -- creation time (from the blockchain) \n",
    " \ttxs -- number of transactions \n",
    "\n",
    "txhash.txt -- transaction ID and hash pairs, 30048983 rows, 2 columns: \n",
    "\n",
    "\n",
    " \ttxID -- id used in this database (0 -- 30048982, continous) \n",
    " \ttxhash -- transaction hash used in the blockchain (64 hex characters) \n",
    "\n",
    "addresses.txt -- BitCoin address IDs, 24618959 rows, 2 columns: \n",
    "\n",
    "\n",
    " \taddrID -- id used in this database (0 -- 24618958, continous, the address with addrID == 0 is invalid /blank, not used/) \n",
    " \taddr -- string representation of the address (alphanumeric, maximum 35 characters; note that the IDs are NOT ordered by the addr in any way) \n",
    "\n",
    "\n",
    "***\n",
    "tx.txt -- enumaration of all transactions, 30048983 rows, 4 columns: \n",
    "\n",
    "\n",
    " \ttxID -- transaction ID (from the txhash.txt file) \n",
    " \tblockID -- block ID (from the blockhash.txt file) \n",
    " \tn_inputs -- number of inputs \n",
    " \tn_outputs -- number of outputs \n",
    "\n",
    "***\n",
    "txin.txt -- list of all transaction inputs (sums sent by the users), 65714232 rows, 3 columns: \n",
    "\n",
    "\n",
    " \ttxID -- transaction ID (from the txhash.txt file) \n",
    " \taddrID -- sending address (from the addresses.txt file) \n",
    " \tvalue -- sum in Satoshis (1e-8 BTC -- note that the value can be over 2^32, use 64-bit integers when parsing) \n",
    "\n",
    "***\n",
    "txout.txt -- list of all transaction outputs (sums received by the users), 73738345 rows, 3 columns: \n",
    "\n",
    "\n",
    " \ttxID -- transaction ID (from the txhash.txt file) \n",
    " \taddrID -- receiving address (from the addresses.txt file) \n",
    " \tvalue -- sum in Satoshis (1e-8 BTC -- note that the value can be over 2^32, use 64-bit integers when parsing) \n",
    "\n",
    "***\n",
    "txtime.txt -- transaction timestamps (obtained from the blockchain.info site), 30048983 rows, 2 columns: \n",
    "\n",
    "\n",
    " \ttxID -- transaction ID (from the txhash.txt file) \n",
    " \tunixtime -- unix timestamp (seconds since 1970-01-01) \n",
    "_______\n",
    "\n",
    "\n",
    "## Computed data - this data is obtained from the above data\n",
    "\n",
    "contraction.txt -- list of addresses possibly belonging to the same user, 24618959 rows, 2 columns: \n",
    "\n",
    "\n",
    " \taddrID -- address ID (from the addresses.txt file) \n",
    " \tuserID -- ID of identified user (not continuos, each two addrID which belong to the same \"user\" appear as inputs in the same transaction at least once) \n",
    "\n",
    "balances.txt -- balances of nodes after 277,443 blocks (on 2013.12.28.), 24617959 rows, 2 columns: \n",
    "\n",
    "\n",
    " \taddrID -- address ID (from the addresses.txt file) \n",
    " \tbalance -- balance in Satoshis (1e-8 BTC -- note that the value can be over 2^32, use 64-bit integers when parsing) \n",
    "\n",
    "degree.txt -- node degrees (number of distinct transaction partners), 24575385, 3 columns: \n",
    "\n",
    "\n",
    " \taddrID -- address ID (from the addresses.txt file) \n",
    " \tindeg -- indegree (number of distinct addresses which appear as inputs in transactions where this address appears as output) \n",
    " \toutdeg -- outdegree (number of distinct addresses which appear as outputs in transactions where this address appears as input) \n",
    "\n",
    "txedge.txt -- edges constructed from the transactions: a transaction with 2 inputs and 3 outputs results in 6 edges (all possible combinations), an edge may appear multiple times, with the corresponding transaction IDs, 129178908 rows, 3 columns: \n",
    "\n",
    "\n",
    " \ttxID -- transaction ID in which this edge appears \n",
    " \taddrin -- sending address \n",
    " \taddrout -- receiving address \n",
    "    blockID -- Block ID\n",
    "\n",
    "txedgeunique.txt -- edges constructed from the transactions; each edge appears only once, 89220163 rows, 2 columns:\n",
    "\n",
    "\n",
    " \taddrin -- sending address \n",
    " \taddrout -- receiving address "
   ]
  },
  {
   "cell_type": "markdown",
   "metadata": {},
   "source": [
    "# Analyzing the Blockchain\n",
    "This study looks at the blockchain as it was at the end of year 2013, wherever possible, extra information has been provided"
   ]
  },
  {
   "cell_type": "code",
   "execution_count": 50,
   "metadata": {},
   "outputs": [],
   "source": [
    "import time\n",
    "import mmap\n",
    "import pymongo\n",
    "from pymongo import MongoClient\n",
    "\n",
    "\n",
    "client = MongoClient()\n",
    "client = MongoClient('localhost', 27017)\n",
    "\n",
    "\"\"\"\n",
    "this is our database which has following collections/tables/databases. For further description, \n",
    "match the names with the original dataset\n",
    "\n",
    "'degree',\n",
    "'addresses',\n",
    "'addressCount',\n",
    "'txout',\n",
    "'txtime',\n",
    "'blockhash',\n",
    "'contraction',\n",
    "'txedge',\n",
    "'txin',\n",
    "'txhash',\n",
    "'tx'\n",
    "\"\"\"\n",
    "\n",
    "db = client.blockchain\n",
    "\n",
    "\"\"\"\n",
    "The database below is based on info we scraped from the blockchain.info webste. The number of total \n",
    "tags are 3557. Of which 3316 tags have been verified.\n",
    "\"\"\"\n",
    "db_meta = client.info"
   ]
  },
  {
   "cell_type": "code",
   "execution_count": 51,
   "metadata": {},
   "outputs": [],
   "source": [
    "\"\"\"\n",
    "We index the table based on entries we query. This makes the lookup almost as fast\n",
    "\n",
    "For comparison, a lookup of a wallet address among 24.5 million addresses takes....\n",
    "...0.001255 seconds, which is almost equal to in-memory python dict fetch. Yeah!!!\n",
    "\"\"\"\n",
    "#db.tx.create_index( \"txID\" )\n",
    "#db.addresses.create_index( \"addrID\")\n",
    "#db.txout.create_index(\"txID\")\n",
    "#db.txin.create_index(\"txID\")\n",
    "#db.txedge.create_index(\"txID\")\n",
    "#db.txedge.create_index(\"addrin\")\n",
    "#db.txtime.create_index(\"txID\")\n",
    "#db.txhash.create_index(\"txID\")\n",
    "#db.tx.create_index(\"txID\")\n",
    "#db.degree.create_index(\"addrID\")\n",
    "#db.contraction.create_index(\"userID\")\n",
    "#db.contraction.create_index(\"addrID\")"
   ]
  },
  {
   "cell_type": "markdown",
   "metadata": {},
   "source": [
    "## How many addresses can we tag?\n",
    "In this notebook, we start with 3557 addresses, then we go on to tag clusters. We are interested in finding how many addresses (don't forget 24.6 mill) can we tag with just 3557 publically tagged addresses. \n",
    "Tagging is a crucial step, for instance, if we know one address belongs to a bad guy, then we find bunch of addresses belonging to that guy, and we tag them all with the individuals owenership. We'll later develop a very simple strategy to give risk rating to different addresses."
   ]
  },
  {
   "cell_type": "code",
   "execution_count": 117,
   "metadata": {},
   "outputs": [],
   "source": [
    "#Find the clusters with largest sizes.\n",
    "documents = db.contraction.find()\n",
    "addressCount = {}\n",
    "for i in range(documents.count()):\n",
    "    userID = documents.next()['userID']\n",
    "    addressCount[userID] = addressCount.get(userID, 0) + 1\n",
    "\n",
    "#There is no need to sort as shown below\n",
    "sorted_addressCount = sorted(addressCount.items(), key=operator.itemgetter(1))"
   ]
  },
  {
   "cell_type": "code",
   "execution_count": null,
   "metadata": {},
   "outputs": [],
   "source": [
    "#Create a database of clusters.\n",
    "posts = []\n",
    "for each, another in sorted_addressCount:\n",
    "    posts.append({'userID': each, 'addressCount': another})\n",
    "    \n",
    "#Bad idea: over use of memory\n",
    "db.addressCount.insert_many(posts)\n",
    "\n",
    "#db.addressCount.find().count()\n",
    "#12137803- total clusters"
   ]
  },
  {
   "cell_type": "code",
   "execution_count": null,
   "metadata": {},
   "outputs": [],
   "source": [
    "#Meta info of addresses\n",
    "#I had to do this to migrate the old database into the new one\n",
    "#You might want to see how our meta-info database is set up with \n",
    "#future in mind.\n",
    "posts = []\n",
    "while cursor:\n",
    "    post = cursor.next()\n",
    "    posts.append({\n",
    "        'address': post['address'][0],\n",
    "        'meta_info': [{'info_source': 'blockchain_info_public',\n",
    "                       'tag': post['tag'][0],\n",
    "                       'ref_link': post['url_link'][0],\n",
    "                       'verified': post['blockchain_info_verified']}]\n",
    "    })"
   ]
  },
  {
   "cell_type": "markdown",
   "metadata": {},
   "source": [
    "### How many tags actually?\n",
    "Because we have tags 3557 tags collected this week, and our dataset is only until the end of 2013, we pick only the relevant tags - 1541 (shown below).  "
   ]
  },
  {
   "cell_type": "code",
   "execution_count": 123,
   "metadata": {},
   "outputs": [
    {
     "name": "stdout",
     "output_type": "stream",
     "text": [
      "1541 addresses tagged.\n",
      "It took 1.8386666774749756 ms to carry out the above operations\n"
     ]
    }
   ],
   "source": [
    "t = time.time()\n",
    "\n",
    "cursor = db_meta.meta.find()\n",
    "known_addresses = []\n",
    "\n",
    "for entry in cursor:\n",
    "    if db.addresses.find_one({'addr': entry['address']}):\n",
    "        known_addresses.append(entry['address'])\n",
    "        \n",
    "print(\"{0} addresses tagged.\".format(len(known_addresses)))\n",
    "print(\"It took {0} seconds to carry out the above operations\".format(time.time()-t))"
   ]
  },
  {
   "cell_type": "code",
   "execution_count": 124,
   "metadata": {},
   "outputs": [
    {
     "name": "stdout",
     "output_type": "stream",
     "text": [
      "It took 0.7090697288513184 seconds to carry out the above operations\n"
     ]
    }
   ],
   "source": [
    "# We obtained a list of bitcoin addresses and their tags above.\n",
    "# Now we map those actual bitcoin addresses to our internal id representation.\n",
    "\n",
    "t = time.time()\n",
    "\n",
    "known_addresses_id = [db.addresses.find_one({'addr': x})['addrID'] for x in known_addresses]\n",
    "\n",
    "print(\"It took {0} seconds to carry out the above operations\".format(time.time()-t))"
   ]
  },
  {
   "cell_type": "code",
   "execution_count": 127,
   "metadata": {},
   "outputs": [
    {
     "name": "stdout",
     "output_type": "stream",
     "text": [
      "It took 0.7048068046569824 seconds to carry out the above operation\n"
     ]
    }
   ],
   "source": [
    "#Let's connected our internal ids[tagged above] to our clusters\n",
    "\n",
    "t = time.time()\n",
    "\n",
    "known_addresses_cluster_id = [(x, db.contraction.find_one({'addrID': x})['userID']) for x in known_addresses_id]\n",
    "\n",
    "print(\"It took {0} seconds to carry out the above operation\".format(time.time()-t))\n",
    "\n",
    "#This is not necessary, I did it for my own analysis.\n",
    "known_addresses_cluster_id.sort(key=lambda x: x[1])"
   ]
  },
  {
   "cell_type": "code",
   "execution_count": 95,
   "metadata": {},
   "outputs": [],
   "source": [
    "# Now the fun part.\n",
    "\n",
    "\"\"\"\n",
    "We do a single round reverse lookup. That is, we pick an address, find its matching cluster.\n",
    "Because our original hypothesis was that our clustering was done based on the\n",
    "owner of the addresses. Also, because we know the tag for one (or more) addresses belonging\n",
    "to a cluster, we can tag all the addresses belonging to that cluster. \n",
    "Let's see what we get. \n",
    "\"\"\""
   ]
  },
  {
   "cell_type": "code",
   "execution_count": 157,
   "metadata": {},
   "outputs": [
    {
     "data": {
      "text/plain": [
       "792"
      ]
     },
     "execution_count": 157,
     "metadata": {},
     "output_type": "execute_result"
    }
   ],
   "source": [
    "# Let's find a representative address of a cluster i.e. one address per cluster.\n",
    "cluster_with_one_address = [(cluster, addrID) for addrID, cluster in known_addresses_cluster_id]\n",
    "seen = []\n",
    "cluster_representative_addrID = []\n",
    "for each in cluster_with_one_address:\n",
    "    if each[0] not in seen:\n",
    "        cluster_representative_addrID.append((each[0],each[1]))\n",
    "        seen.append(each[0])\n",
    "        \n",
    "len(cluster_representative_addrID)                                            "
   ]
  },
  {
   "cell_type": "code",
   "execution_count": 167,
   "metadata": {
    "scrolled": true
   },
   "outputs": [
    {
     "data": {
      "text/plain": [
       "1625753"
      ]
     },
     "execution_count": 167,
     "metadata": {},
     "output_type": "execute_result"
    }
   ],
   "source": [
    "total_tagged = []\n",
    "for each in cluster_representative_addrID:\n",
    "    for each in db.contraction.find({'userID': each[0]}):\n",
    "        total_tagged.append((each['addrID'], each['userID']))\n",
    "len(total_tagged)       "
   ]
  },
  {
   "cell_type": "markdown",
   "metadata": {},
   "source": [
    "### We tagged 1625753 individual address with just 792 relevant tags!!!"
   ]
  },
  {
   "cell_type": "code",
   "execution_count": 176,
   "metadata": {},
   "outputs": [
    {
     "data": {
      "text/plain": [
       "{'_id': ObjectId('5aaa60272e007d12bfa8c167'),\n",
       " 'addr': '112QNTtSrKgqua5s7uCDHasJKqXsaHg93R',\n",
       " 'addrID': 3414}"
      ]
     },
     "execution_count": 176,
     "metadata": {},
     "output_type": "execute_result"
    }
   ],
   "source": [
    "#Let's do some verification.\n",
    "db.addresses.find_one({'addrID': known_addresses_cluster_id[100][1]})"
   ]
  }
 ],
 "metadata": {
  "kernelspec": {
   "display_name": "Python 3",
   "language": "python",
   "name": "python3"
  },
  "language_info": {
   "codemirror_mode": {
    "name": "ipython",
    "version": 3
   },
   "file_extension": ".py",
   "mimetype": "text/x-python",
   "name": "python",
   "nbconvert_exporter": "python",
   "pygments_lexer": "ipython3",
   "version": "3.5.2"
  }
 },
 "nbformat": 4,
 "nbformat_minor": 2
}
